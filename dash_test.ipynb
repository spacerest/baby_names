{
 "cells": [
  {
   "cell_type": "code",
   "execution_count": 1,
   "id": "electrical-mathematics",
   "metadata": {
    "scrolled": true
   },
   "outputs": [],
   "source": [
    "from jupyter_dash import JupyterDash\n",
    "import plotly.express as px\n",
    "import plotly.graph_objects as go\n",
    "import pandas as pd\n",
    "from dash import dcc\n",
    "from dash import html\n",
    "from dash.dependencies import Input, Output"
   ]
  },
  {
   "cell_type": "code",
   "execution_count": 2,
   "id": "cognitive-dinner",
   "metadata": {
    "tags": []
   },
   "outputs": [],
   "source": [
    "df = pd.read_pickle(\"all-names.pkl\")"
   ]
  },
  {
   "cell_type": "code",
   "execution_count": 3,
   "id": "australian-melbourne",
   "metadata": {},
   "outputs": [],
   "source": [
    "df = df.sort_values(\"year\")"
   ]
  },
  {
   "cell_type": "code",
   "execution_count": 32,
   "id": "5ec37711-2649-4ebe-bc17-3f07cac9bacf",
   "metadata": {},
   "outputs": [
    {
     "data": {
      "text/html": [
       "<div>\n",
       "<style scoped>\n",
       "    .dataframe tbody tr th:only-of-type {\n",
       "        vertical-align: middle;\n",
       "    }\n",
       "\n",
       "    .dataframe tbody tr th {\n",
       "        vertical-align: top;\n",
       "    }\n",
       "\n",
       "    .dataframe thead th {\n",
       "        text-align: right;\n",
       "    }\n",
       "</style>\n",
       "<table border=\"1\" class=\"dataframe\">\n",
       "  <thead>\n",
       "    <tr style=\"text-align: right;\">\n",
       "      <th></th>\n",
       "      <th>number</th>\n",
       "    </tr>\n",
       "    <tr>\n",
       "      <th>year</th>\n",
       "      <th></th>\n",
       "    </tr>\n",
       "  </thead>\n",
       "  <tbody>\n",
       "    <tr>\n",
       "      <th>1880</th>\n",
       "      <td>201484</td>\n",
       "    </tr>\n",
       "    <tr>\n",
       "      <th>1881</th>\n",
       "      <td>192691</td>\n",
       "    </tr>\n",
       "    <tr>\n",
       "      <th>1882</th>\n",
       "      <td>221533</td>\n",
       "    </tr>\n",
       "    <tr>\n",
       "      <th>1883</th>\n",
       "      <td>216944</td>\n",
       "    </tr>\n",
       "    <tr>\n",
       "      <th>1884</th>\n",
       "      <td>243461</td>\n",
       "    </tr>\n",
       "    <tr>\n",
       "      <th>...</th>\n",
       "      <td>...</td>\n",
       "    </tr>\n",
       "    <tr>\n",
       "      <th>2016</th>\n",
       "      <td>3662277</td>\n",
       "    </tr>\n",
       "    <tr>\n",
       "      <th>2017</th>\n",
       "      <td>3568294</td>\n",
       "    </tr>\n",
       "    <tr>\n",
       "      <th>2018</th>\n",
       "      <td>3505963</td>\n",
       "    </tr>\n",
       "    <tr>\n",
       "      <th>2019</th>\n",
       "      <td>3455946</td>\n",
       "    </tr>\n",
       "    <tr>\n",
       "      <th>2020</th>\n",
       "      <td>3305259</td>\n",
       "    </tr>\n",
       "  </tbody>\n",
       "</table>\n",
       "<p>141 rows × 1 columns</p>\n",
       "</div>"
      ],
      "text/plain": [
       "       number\n",
       "year         \n",
       "1880   201484\n",
       "1881   192691\n",
       "1882   221533\n",
       "1883   216944\n",
       "1884   243461\n",
       "...       ...\n",
       "2016  3662277\n",
       "2017  3568294\n",
       "2018  3505963\n",
       "2019  3455946\n",
       "2020  3305259\n",
       "\n",
       "[141 rows x 1 columns]"
      ]
     },
     "execution_count": 32,
     "metadata": {},
     "output_type": "execute_result"
    }
   ],
   "source": [
    "df.groupby(\"year\").sum()"
   ]
  },
  {
   "cell_type": "code",
   "execution_count": 67,
   "id": "e6f3a2c5-e454-472f-a0cb-2ef92c2abbef",
   "metadata": {},
   "outputs": [
    {
     "data": {
      "text/plain": [
       "201484"
      ]
     },
     "execution_count": 67,
     "metadata": {},
     "output_type": "execute_result"
    }
   ],
   "source": [
    "df.groupby(\"year\").sum().loc[\"1880\"].number"
   ]
  },
  {
   "cell_type": "code",
   "execution_count": 41,
   "id": "23619ffc-0ee6-4ffa-9cc3-62d58e272ed3",
   "metadata": {},
   "outputs": [
    {
     "data": {
      "text/html": [
       "<div>\n",
       "<style scoped>\n",
       "    .dataframe tbody tr th:only-of-type {\n",
       "        vertical-align: middle;\n",
       "    }\n",
       "\n",
       "    .dataframe tbody tr th {\n",
       "        vertical-align: top;\n",
       "    }\n",
       "\n",
       "    .dataframe thead th {\n",
       "        text-align: right;\n",
       "    }\n",
       "</style>\n",
       "<table border=\"1\" class=\"dataframe\">\n",
       "  <thead>\n",
       "    <tr style=\"text-align: right;\">\n",
       "      <th></th>\n",
       "      <th>year</th>\n",
       "      <th>name</th>\n",
       "      <th>sex</th>\n",
       "      <th>number</th>\n",
       "    </tr>\n",
       "  </thead>\n",
       "  <tbody>\n",
       "    <tr>\n",
       "      <th>1873258</th>\n",
       "      <td>1880</td>\n",
       "      <td>dayton</td>\n",
       "      <td>M</td>\n",
       "      <td>8</td>\n",
       "    </tr>\n",
       "    <tr>\n",
       "      <th>1872961</th>\n",
       "      <td>1880</td>\n",
       "      <td>vern</td>\n",
       "      <td>M</td>\n",
       "      <td>19</td>\n",
       "    </tr>\n",
       "    <tr>\n",
       "      <th>1872960</th>\n",
       "      <td>1880</td>\n",
       "      <td>stewart</td>\n",
       "      <td>M</td>\n",
       "      <td>19</td>\n",
       "    </tr>\n",
       "    <tr>\n",
       "      <th>1872959</th>\n",
       "      <td>1880</td>\n",
       "      <td>randolph</td>\n",
       "      <td>M</td>\n",
       "      <td>19</td>\n",
       "    </tr>\n",
       "    <tr>\n",
       "      <th>1872958</th>\n",
       "      <td>1880</td>\n",
       "      <td>lucien</td>\n",
       "      <td>M</td>\n",
       "      <td>19</td>\n",
       "    </tr>\n",
       "  </tbody>\n",
       "</table>\n",
       "</div>"
      ],
      "text/plain": [
       "         year      name sex  number\n",
       "1873258  1880    dayton   M       8\n",
       "1872961  1880      vern   M      19\n",
       "1872960  1880   stewart   M      19\n",
       "1872959  1880  randolph   M      19\n",
       "1872958  1880    lucien   M      19"
      ]
     },
     "execution_count": 41,
     "metadata": {},
     "output_type": "execute_result"
    }
   ],
   "source": [
    "df.head()"
   ]
  },
  {
   "cell_type": "code",
   "execution_count": 42,
   "id": "436b17aa-a99c-419d-a151-2ef4357c928b",
   "metadata": {},
   "outputs": [],
   "source": [
    "yearsums = df.groupby(\"year\").sum()"
   ]
  },
  {
   "cell_type": "code",
   "execution_count": 78,
   "id": "aaec78e8-c711-4266-9fa5-acc215846943",
   "metadata": {},
   "outputs": [],
   "source": [
    "yearsums.rename(columns={\"number\": \"total_births_estimate\"}, inplace=True)"
   ]
  },
  {
   "cell_type": "code",
   "execution_count": 79,
   "id": "edc31b2f-1bae-47b3-b58b-51533f2fa871",
   "metadata": {},
   "outputs": [],
   "source": [
    "df = df.merge(yearsums, on=\"year\")"
   ]
  },
  {
   "cell_type": "code",
   "execution_count": 80,
   "id": "d28d087b-136d-407b-a3f5-683d70310c69",
   "metadata": {},
   "outputs": [
    {
     "data": {
      "text/html": [
       "<div>\n",
       "<style scoped>\n",
       "    .dataframe tbody tr th:only-of-type {\n",
       "        vertical-align: middle;\n",
       "    }\n",
       "\n",
       "    .dataframe tbody tr th {\n",
       "        vertical-align: top;\n",
       "    }\n",
       "\n",
       "    .dataframe thead th {\n",
       "        text-align: right;\n",
       "    }\n",
       "</style>\n",
       "<table border=\"1\" class=\"dataframe\">\n",
       "  <thead>\n",
       "    <tr style=\"text-align: right;\">\n",
       "      <th></th>\n",
       "      <th>year</th>\n",
       "      <th>name</th>\n",
       "      <th>sex</th>\n",
       "      <th>number_x</th>\n",
       "      <th>number_y</th>\n",
       "      <th>total_births_estimate</th>\n",
       "    </tr>\n",
       "  </thead>\n",
       "  <tbody>\n",
       "    <tr>\n",
       "      <th>0</th>\n",
       "      <td>1880</td>\n",
       "      <td>dayton</td>\n",
       "      <td>M</td>\n",
       "      <td>8</td>\n",
       "      <td>201484</td>\n",
       "      <td>201484</td>\n",
       "    </tr>\n",
       "    <tr>\n",
       "      <th>1</th>\n",
       "      <td>1880</td>\n",
       "      <td>vern</td>\n",
       "      <td>M</td>\n",
       "      <td>19</td>\n",
       "      <td>201484</td>\n",
       "      <td>201484</td>\n",
       "    </tr>\n",
       "    <tr>\n",
       "      <th>2</th>\n",
       "      <td>1880</td>\n",
       "      <td>stewart</td>\n",
       "      <td>M</td>\n",
       "      <td>19</td>\n",
       "      <td>201484</td>\n",
       "      <td>201484</td>\n",
       "    </tr>\n",
       "    <tr>\n",
       "      <th>3</th>\n",
       "      <td>1880</td>\n",
       "      <td>randolph</td>\n",
       "      <td>M</td>\n",
       "      <td>19</td>\n",
       "      <td>201484</td>\n",
       "      <td>201484</td>\n",
       "    </tr>\n",
       "    <tr>\n",
       "      <th>4</th>\n",
       "      <td>1880</td>\n",
       "      <td>lucien</td>\n",
       "      <td>M</td>\n",
       "      <td>19</td>\n",
       "      <td>201484</td>\n",
       "      <td>201484</td>\n",
       "    </tr>\n",
       "  </tbody>\n",
       "</table>\n",
       "</div>"
      ],
      "text/plain": [
       "   year      name sex  number_x  number_y  total_births_estimate\n",
       "0  1880    dayton   M         8    201484                 201484\n",
       "1  1880      vern   M        19    201484                 201484\n",
       "2  1880   stewart   M        19    201484                 201484\n",
       "3  1880  randolph   M        19    201484                 201484\n",
       "4  1880    lucien   M        19    201484                 201484"
      ]
     },
     "execution_count": 80,
     "metadata": {},
     "output_type": "execute_result"
    }
   ],
   "source": [
    "df.head()"
   ]
  },
  {
   "cell_type": "code",
   "execution_count": 94,
   "id": "cc53c7d1-a2f0-48a6-bcc1-eb4579fe73de",
   "metadata": {},
   "outputs": [],
   "source": [
    "df[\"percent_of_births\"] = 100 * df.number / df.total_births_estimate"
   ]
  },
  {
   "cell_type": "code",
   "execution_count": 95,
   "id": "a442f56e-967e-41b0-a419-0ccf0d1691d4",
   "metadata": {},
   "outputs": [
    {
     "data": {
      "text/html": [
       "<div>\n",
       "<style scoped>\n",
       "    .dataframe tbody tr th:only-of-type {\n",
       "        vertical-align: middle;\n",
       "    }\n",
       "\n",
       "    .dataframe tbody tr th {\n",
       "        vertical-align: top;\n",
       "    }\n",
       "\n",
       "    .dataframe thead th {\n",
       "        text-align: right;\n",
       "    }\n",
       "</style>\n",
       "<table border=\"1\" class=\"dataframe\">\n",
       "  <thead>\n",
       "    <tr style=\"text-align: right;\">\n",
       "      <th></th>\n",
       "      <th>year</th>\n",
       "      <th>name</th>\n",
       "      <th>sex</th>\n",
       "      <th>number</th>\n",
       "      <th>total_births_estimate</th>\n",
       "      <th>percent_of_births</th>\n",
       "    </tr>\n",
       "  </thead>\n",
       "  <tbody>\n",
       "    <tr>\n",
       "      <th>0</th>\n",
       "      <td>1880</td>\n",
       "      <td>dayton</td>\n",
       "      <td>M</td>\n",
       "      <td>8</td>\n",
       "      <td>201484</td>\n",
       "      <td>0.003971</td>\n",
       "    </tr>\n",
       "    <tr>\n",
       "      <th>1</th>\n",
       "      <td>1880</td>\n",
       "      <td>vern</td>\n",
       "      <td>M</td>\n",
       "      <td>19</td>\n",
       "      <td>201484</td>\n",
       "      <td>0.009430</td>\n",
       "    </tr>\n",
       "    <tr>\n",
       "      <th>2</th>\n",
       "      <td>1880</td>\n",
       "      <td>stewart</td>\n",
       "      <td>M</td>\n",
       "      <td>19</td>\n",
       "      <td>201484</td>\n",
       "      <td>0.009430</td>\n",
       "    </tr>\n",
       "    <tr>\n",
       "      <th>3</th>\n",
       "      <td>1880</td>\n",
       "      <td>randolph</td>\n",
       "      <td>M</td>\n",
       "      <td>19</td>\n",
       "      <td>201484</td>\n",
       "      <td>0.009430</td>\n",
       "    </tr>\n",
       "    <tr>\n",
       "      <th>4</th>\n",
       "      <td>1880</td>\n",
       "      <td>lucien</td>\n",
       "      <td>M</td>\n",
       "      <td>19</td>\n",
       "      <td>201484</td>\n",
       "      <td>0.009430</td>\n",
       "    </tr>\n",
       "  </tbody>\n",
       "</table>\n",
       "</div>"
      ],
      "text/plain": [
       "   year      name sex  number  total_births_estimate  percent_of_births\n",
       "0  1880    dayton   M       8                 201484           0.003971\n",
       "1  1880      vern   M      19                 201484           0.009430\n",
       "2  1880   stewart   M      19                 201484           0.009430\n",
       "3  1880  randolph   M      19                 201484           0.009430\n",
       "4  1880    lucien   M      19                 201484           0.009430"
      ]
     },
     "execution_count": 95,
     "metadata": {},
     "output_type": "execute_result"
    }
   ],
   "source": [
    "df.head()"
   ]
  },
  {
   "cell_type": "code",
   "execution_count": 104,
   "id": "b03b4f14-7714-4533-841c-6c5dbc661a00",
   "metadata": {
    "tags": []
   },
   "outputs": [],
   "source": [
    "APP_NAME = \"tester8\"\n",
    "FAVORITES = ['alta', 'mirabelle', 'lyra', 'serena', 'ella', 'edna', 'adie', 'daria', 'lilith', 'sofia', 'eleanore', 'lina', 'marina', 'phoenix', 'aurora', 'cora', 'maggie', 'amira', 'parker', 'juno', 'vienna', 'elina', 'jana', 'zora', 'azula']"
   ]
  },
  {
   "cell_type": "code",
   "execution_count": 101,
   "id": "heated-format",
   "metadata": {},
   "outputs": [],
   "source": [
    "# Build App\n",
    "app = JupyterDash(__name__)\n",
    "app.layout = html.Div([\n",
    "    html.H1(\"Baby Names\"),\n",
    "    dcc.Graph(id=APP_NAME),\n",
    "    html.Label([\n",
    "        \"names\",\n",
    "        dcc.Dropdown(\n",
    "            id='names-dropdown', clearable=False,\n",
    "            value=FAVORITES, options=[\n",
    "                {'label': name, 'value': name}\n",
    "                for name in sorted(list(set(df.name)))\n",
    "            ],\n",
    "            multi=True\n",
    "        )\n",
    "    ]),\n",
    "    html.Label([\n",
    "        \"sex\",\n",
    "        dcc.Dropdown(\n",
    "            id='sex-dropdown', clearable=False,\n",
    "            value='F', options=[\n",
    "                {'label': sex, 'value': sex}\n",
    "                for sex in sorted(list(set(df.sex)))\n",
    "            ]\n",
    "        )\n",
    "    ]),\n",
    "])"
   ]
  },
  {
   "cell_type": "code",
   "execution_count": 102,
   "id": "hybrid-english",
   "metadata": {},
   "outputs": [],
   "source": [
    "# Define callback to update graph\n",
    "@app.callback(\n",
    "    Output(APP_NAME, 'figure'),\n",
    "    [Input(\"names-dropdown\", \"value\"),\n",
    "    Input(\"sex-dropdown\", \"value\")]\n",
    ")\n",
    "def update_graph(name_selection, sex_selection):\n",
    "    print(name_selection)\n",
    "    names = list()\n",
    "    names.extend([name_selection])\n",
    "    \n",
    "    traces = list()\n",
    "    for name in name_selection:\n",
    "        name_df = df[(df[\"name\"] == name) & (df[\"sex\"] == sex_selection)]\n",
    "        traces.append(go.Scatter(x=name_df.year,\n",
    "                                 y=name_df.percent_of_births,\n",
    "                                 name=name))\n",
    "                                 \n",
    "    \n",
    "    #display_df = df[df[\"name\"].isin(names)]\n",
    "    \n",
    "    return go.Figure(\n",
    "        data=traces\n",
    "    )"
   ]
  },
  {
   "cell_type": "code",
   "execution_count": 103,
   "id": "private-round",
   "metadata": {},
   "outputs": [
    {
     "name": "stdout",
     "output_type": "stream",
     "text": [
      "Dash app running on http://127.0.0.1:8050/\n",
      "['rachel', 'alta', 'mirabelle', 'lyra', 'serena', 'ella', 'edna', 'adie', 'daria', 'lilith', 'melody', 'sofia', 'ash', 'brin', 'cypress', 'erin', 'lin', 'rain', 'eleanore']\n",
      "['rachel', 'alta', 'mirabelle', 'lyra', 'serena', 'ella', 'edna', 'adie', 'daria', 'lilith', 'melody', 'sofia', 'ash', 'cypress', 'erin', 'lin', 'rain', 'eleanore']\n",
      "['rachel', 'alta', 'mirabelle', 'lyra', 'serena', 'ella', 'edna', 'adie', 'daria', 'lilith', 'melody', 'sofia', 'ash', 'erin', 'lin', 'rain', 'eleanore']\n",
      "['rachel', 'alta', 'mirabelle', 'lyra', 'serena', 'ella', 'edna', 'adie', 'daria', 'lilith', 'melody', 'sofia', 'ash', 'erin', 'rain', 'eleanore']\n",
      "['rachel', 'alta', 'mirabelle', 'lyra', 'serena', 'ella', 'edna', 'adie', 'daria', 'lilith', 'melody', 'sofia', 'ash', 'rain', 'eleanore']\n",
      "['alta', 'mirabelle', 'lyra', 'serena', 'ella', 'edna', 'adie', 'daria', 'lilith', 'melody', 'sofia', 'ash', 'rain', 'eleanore']\n",
      "['alta', 'mirabelle', 'lyra', 'serena', 'ella', 'edna', 'adie', 'daria', 'lilith', 'sofia', 'ash', 'rain', 'eleanore']\n",
      "['alta', 'mirabelle', 'lyra', 'serena', 'ella', 'edna', 'adie', 'daria', 'lilith', 'sofia', 'ash', 'eleanore']\n",
      "['alta', 'mirabelle', 'lyra', 'serena', 'ella', 'edna', 'adie', 'daria', 'lilith', 'sofia', 'eleanore']\n",
      "['alta', 'mirabelle', 'lyra', 'serena', 'ella', 'edna', 'adie', 'daria', 'lilith', 'sofia', 'eleanore', 'karen']\n",
      "['alta', 'mirabelle', 'lyra', 'serena', 'ella', 'edna', 'adie', 'daria', 'lilith', 'sofia', 'eleanore']\n",
      "['alta', 'mirabelle', 'lyra', 'serena', 'ella', 'edna', 'adie', 'daria', 'lilith', 'sofia', 'eleanore', 'lina']\n",
      "['alta', 'mirabelle', 'lyra', 'serena', 'ella', 'edna', 'adie', 'daria', 'lilith', 'sofia', 'eleanore', 'lina', 'marina']\n",
      "['alta', 'mirabelle', 'lyra', 'serena', 'ella', 'edna', 'adie', 'daria', 'lilith', 'sofia', 'eleanore', 'lina', 'marina', 'phoenix']\n",
      "['alta', 'mirabelle', 'lyra', 'serena', 'ella', 'edna', 'adie', 'daria', 'lilith', 'sofia', 'eleanore', 'lina', 'marina', 'phoenix', 'aurora']\n",
      "['alta', 'mirabelle', 'lyra', 'serena', 'ella', 'edna', 'adie', 'daria', 'lilith', 'sofia', 'eleanore', 'lina', 'marina', 'phoenix', 'aurora', 'cora']\n",
      "['alta', 'mirabelle', 'lyra', 'serena', 'ella', 'edna', 'adie', 'daria', 'lilith', 'sofia', 'eleanore', 'lina', 'marina', 'phoenix', 'aurora', 'cora', 'maggie']\n",
      "['alta', 'mirabelle', 'lyra', 'serena', 'ella', 'edna', 'adie', 'daria', 'lilith', 'sofia', 'eleanore', 'lina', 'marina', 'phoenix', 'aurora', 'cora', 'maggie', 'amira']\n",
      "['alta', 'mirabelle', 'lyra', 'serena', 'ella', 'edna', 'adie', 'daria', 'lilith', 'sofia', 'eleanore', 'lina', 'marina', 'phoenix', 'aurora', 'cora', 'maggie', 'amira', 'parker']\n",
      "['alta', 'mirabelle', 'lyra', 'serena', 'ella', 'edna', 'adie', 'daria', 'lilith', 'sofia', 'eleanore', 'lina', 'marina', 'phoenix', 'aurora', 'cora', 'maggie', 'amira', 'parker', 'juno']\n",
      "['alta', 'mirabelle', 'lyra', 'serena', 'ella', 'edna', 'adie', 'daria', 'lilith', 'sofia', 'eleanore', 'lina', 'marina', 'phoenix', 'aurora', 'cora', 'maggie', 'amira', 'parker', 'juno', 'vienna']\n",
      "['alta', 'mirabelle', 'lyra', 'serena', 'ella', 'edna', 'adie', 'daria', 'lilith', 'sofia', 'eleanore', 'lina', 'marina', 'phoenix', 'aurora', 'cora', 'maggie', 'amira', 'parker', 'juno', 'vienna', 'elina']\n",
      "['alta', 'mirabelle', 'lyra', 'serena', 'ella', 'edna', 'adie', 'daria', 'lilith', 'sofia', 'eleanore', 'lina', 'marina', 'phoenix', 'aurora', 'cora', 'maggie', 'amira', 'parker', 'juno', 'vienna', 'elina', 'jana']\n",
      "['alta', 'mirabelle', 'lyra', 'serena', 'ella', 'edna', 'adie', 'daria', 'lilith', 'sofia', 'eleanore', 'lina', 'marina', 'phoenix', 'aurora', 'cora', 'maggie', 'amira', 'parker', 'juno', 'vienna', 'elina', 'jana', 'zora']\n",
      "['alta', 'mirabelle', 'lyra', 'serena', 'ella', 'edna', 'adie', 'daria', 'lilith', 'sofia', 'eleanore', 'lina', 'marina', 'phoenix', 'aurora', 'cora', 'maggie', 'amira', 'parker', 'juno', 'vienna', 'elina', 'jana', 'zora', 'azula']\n"
     ]
    }
   ],
   "source": [
    "# Run app and display result inline in the notebook\n",
    "app.run_server(mode='external')"
   ]
  },
  {
   "cell_type": "code",
   "execution_count": null,
   "id": "8d73b1d6-9230-426b-9e80-4eceda5ad420",
   "metadata": {},
   "outputs": [],
   "source": []
  }
 ],
 "metadata": {
  "kernelspec": {
   "display_name": "Python 3 (ipykernel)",
   "language": "python",
   "name": "python3"
  },
  "language_info": {
   "codemirror_mode": {
    "name": "ipython",
    "version": 3
   },
   "file_extension": ".py",
   "mimetype": "text/x-python",
   "name": "python",
   "nbconvert_exporter": "python",
   "pygments_lexer": "ipython3",
   "version": "3.10.1"
  }
 },
 "nbformat": 4,
 "nbformat_minor": 5
}
