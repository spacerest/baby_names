{
 "cells": [
  {
   "cell_type": "code",
   "execution_count": 1,
   "id": "brave-spoke",
   "metadata": {},
   "outputs": [],
   "source": [
    "import pandas as pd\n",
    "import urllib\n",
    "from pprint import pprint as pp\n",
    "import json"
   ]
  },
  {
   "cell_type": "code",
   "execution_count": 2,
   "id": "d67bc6bb-ff64-4c68-bb5c-752938642289",
   "metadata": {},
   "outputs": [
    {
     "data": {
      "text/plain": [
       "'/Users/martin/opt/anaconda3/envs/babies/bin/python'"
      ]
     },
     "execution_count": 2,
     "metadata": {},
     "output_type": "execute_result"
    }
   ],
   "source": [
    "import sys\n",
    "sys.executable"
   ]
  },
  {
   "cell_type": "code",
   "execution_count": 7,
   "id": "426b06d9-83a7-4e47-9926-0a4178953a90",
   "metadata": {},
   "outputs": [
    {
     "data": {
      "text/plain": [
       "['/Users/martin/Documents/projects/baby_names',\n",
       " '/Users/martin/miniforge3/envs/demo-env/lib/python39.zip',\n",
       " '/Users/martin/miniforge3/envs/demo-env/lib/python3.9',\n",
       " '/Users/martin/miniforge3/envs/demo-env/lib/python3.9/lib-dynload',\n",
       " '',\n",
       " '/Users/martin/miniforge3/envs/demo-env/lib/python3.9/site-packages',\n",
       " '/Users/martin/miniforge3/envs/demo-env/lib/python3.9/site-packages/IPython/extensions',\n",
       " '/Users/martin/.ipython']"
      ]
     },
     "execution_count": 7,
     "metadata": {},
     "output_type": "execute_result"
    }
   ],
   "source": [
    "sys.path"
   ]
  },
  {
   "cell_type": "code",
   "execution_count": null,
   "id": "38e0c249-4fb3-4a5d-9525-8e6e6159c107",
   "metadata": {},
   "outputs": [],
   "source": [
    "import re"
   ]
  },
  {
   "cell_type": "code",
   "execution_count": 21,
   "id": "acoustic-integral",
   "metadata": {},
   "outputs": [],
   "source": [
    "# download SSA big data map file\n",
    "\n",
    "data = urllib.request.urlopen(\"https://www.ssa.gov/data.json\").read()"
   ]
  },
  {
   "cell_type": "code",
   "execution_count": 22,
   "id": "macro-canal",
   "metadata": {},
   "outputs": [],
   "source": [
    "data_json = json.loads(data)"
   ]
  },
  {
   "cell_type": "code",
   "execution_count": 35,
   "id": "valuable-ticket",
   "metadata": {},
   "outputs": [
    {
     "name": "stdout",
     "output_type": "stream",
     "text": [
      "{'accessLevel': 'non-public',\n",
      " 'accrualPeriodicity': None,\n",
      " 'bureauCode': ['016:00'],\n",
      " 'conformsTo': None,\n",
      " 'contactPoint': {'fn': 'Data Administrator',\n",
      "                  'hasEmail': 'mailto:da.mailbox@ssa.gov'},\n",
      " 'dataQuality': None,\n",
      " 'describedBy': None,\n",
      " 'description': 'A central place for congressional  data, zip code, census, '\n",
      "                'etc',\n",
      " 'distribution': None,\n",
      " 'identifier': 'US-GOV-SSA-13',\n",
      " 'isPartOf': None,\n",
      " 'keyword': ['census', 'congressional district', 'congress'],\n",
      " 'landingPage': None,\n",
      " 'language': None,\n",
      " 'license': 'https://www.usa.gov/publicdomain/label/1.0/',\n",
      " 'modified': '2021-11-29',\n",
      " 'primaryITInvestmentUII': None,\n",
      " 'programCode': ['016:000'],\n",
      " 'publisher': {'name': 'Social Security Administration'},\n",
      " 'rights': 'The publishing of the data asset cannot be done due to one or more '\n",
      "           'of the following reasons: contains personal identifying '\n",
      "           'information, contains federal tax information, contains sensitive '\n",
      "           'information, or a data assessment has not been completed.',\n",
      " 'spatial': None,\n",
      " 'systemOfRecords': None,\n",
      " 'temporal': None,\n",
      " 'theme': None,\n",
      " 'title': 'Congressional District'}\n",
      "{'accessLevel': 'public',\n",
      " 'accrualPeriodicity': None,\n",
      " 'bureauCode': ['016:00'],\n",
      " 'conformsTo': None,\n",
      " 'contactPoint': {'fn': 'Open Data', 'hasEmail': 'mailto:Open.Data@ssa.gov'},\n",
      " 'dataQuality': None,\n",
      " 'describedBy': 'https://www.ssa.gov/policy/docs/data/ssi-2010/SSI-2010-User-Manual.pdf',\n",
      " 'description': 'The Under Age 65 Disability Diagnoses of Supplemental '\n",
      "                'Security Income (SSI) Recipients by Census Area (December '\n",
      "                '2010) is produced using the data found in Table 38 from the '\n",
      "                'SSI Annual Statistical Report of 2010. This file contains 9 '\n",
      "                'age groups in 4 regions defined by the U.S. Census Bureau by '\n",
      "                'sex and by 23 diagnostic groups.',\n",
      " 'distribution': [{'description': None,\n",
      "                   'downloadURL': 'https://www.ssa.gov/policy/docs/data/ssi-2010/SSI-Under65-Diag-2-2010.csv',\n",
      "                   'format': 'CSV',\n",
      "                   'mediaType': 'text/csv',\n",
      "                   'title': None}],\n",
      " 'identifier': 'US-GOV-SSA-343',\n",
      " 'isPartOf': None,\n",
      " 'keyword': ['2010 data',\n",
      "             'Age',\n",
      "             'Autistic',\n",
      "             'Blood',\n",
      "             'Diagnostic',\n",
      "             'Eligibility',\n",
      "             'Injury',\n",
      "             'Nervous',\n",
      "             'SSA',\n",
      "             'SSI',\n",
      "             'Sex',\n",
      "             'Social Security',\n",
      "             'Social Security Administration',\n",
      "             'State',\n",
      "             'Types of Disabilities',\n",
      "             'disability',\n",
      "             '2010'],\n",
      " 'landingPage': None,\n",
      " 'language': None,\n",
      " 'license': 'https://creativecommons.org/publicdomain/zero/1.0/',\n",
      " 'modified': '2013-04-25',\n",
      " 'primaryITInvestmentUII': None,\n",
      " 'programCode': ['016:000'],\n",
      " 'publisher': {'name': 'Social Security Administration'},\n",
      " 'references': ['https://www.ssa.gov/policy/docs/data/ssi-2010/SSI-2010-User-Manual.pdf'],\n",
      " 'rights': None,\n",
      " 'spatial': 'United States',\n",
      " 'systemOfRecords': None,\n",
      " 'temporal': '2010-12-01/2010-12-31',\n",
      " 'theme': None,\n",
      " 'title': 'Under Age 65 Disability Diagnoses of Supplemental Security Income '\n",
      "          '(SSI) Recipients by Census Area, December 2010'}\n"
     ]
    }
   ],
   "source": [
    "KEYWORD = \"census\"\n",
    "\n",
    "# Figure out what to extract from the files\n",
    "for x in data_json['dataset']:\n",
    "    if (KEYWORD in x['title'].lower()) or (KEYWORD in x['keyword']):\n",
    "        pp(x)"
   ]
  },
  {
   "cell_type": "code",
   "execution_count": 4,
   "id": "radio-prediction",
   "metadata": {},
   "outputs": [],
   "source": [
    "# Get zipfile of baby names\n",
    "#https://stackoverflow.com/a/65106410/5650506\n",
    "\n",
    "import requests, zipfile, io\n",
    "r = requests.get('https://www.ssa.gov/oact/babynames/names.zip')\n",
    "z = zipfile.ZipFile(io.BytesIO(r.content))\n",
    "z.extractall(\"./data/\")"
   ]
  },
  {
   "cell_type": "code",
   "execution_count": 14,
   "id": "extended-serum",
   "metadata": {},
   "outputs": [],
   "source": [
    "# put the txt file contents into a dataframe\n",
    "# https://stackoverflow.com/questions/14745022/how-to-split-a-dataframe-string-column-into-two-columns\n",
    "\n",
    "import os\n",
    "\n",
    "df = pd.DataFrame()\n",
    "\n",
    "for x in os.listdir(\"./data/\"):\n",
    "    if x[-4:] == \".txt\":\n",
    "        with open(f\"./data/{x}\") as f:\n",
    "            current_file_df = pd.DataFrame(f.readlines()) #todo why not read_csv\n",
    "            current_file_df[0] = current_file_df[0].str.replace('\\n', '')\n",
    "            current_file_df[\"year\"] = x[3:-4]\n",
    "            current_file_df[[\"name\",\"sex\",\"number\"]] = current_file_df[0].str.split(\",\",3, expand=True)\n",
    "            current_file_df[\"number\"] = pd.to_numeric(current_file_df[\"number\"])\n",
    "            current_file_df[\"name\"] = current_file_df[\"name\"].str.lower()\n",
    "            current_file_df[0]\n",
    "            df = pd.concat(\n",
    "                [df, current_file_df],\n",
    "                ignore_index=True\n",
    "            )\n",
    "        #break\n",
    "    #break"
   ]
  },
  {
   "cell_type": "code",
   "execution_count": 17,
   "id": "63763f03-5ad4-4583-a284-0a7e1ec7bad5",
   "metadata": {},
   "outputs": [],
   "source": [
    "df = df.drop(0, axis=1)  # remove the original column we took the date from"
   ]
  },
  {
   "cell_type": "code",
   "execution_count": 18,
   "id": "e3172a5a-6eb8-49d7-988c-4356ecb04ec4",
   "metadata": {},
   "outputs": [
    {
     "data": {
      "text/html": [
       "<div>\n",
       "<style scoped>\n",
       "    .dataframe tbody tr th:only-of-type {\n",
       "        vertical-align: middle;\n",
       "    }\n",
       "\n",
       "    .dataframe tbody tr th {\n",
       "        vertical-align: top;\n",
       "    }\n",
       "\n",
       "    .dataframe thead th {\n",
       "        text-align: right;\n",
       "    }\n",
       "</style>\n",
       "<table border=\"1\" class=\"dataframe\">\n",
       "  <thead>\n",
       "    <tr style=\"text-align: right;\">\n",
       "      <th></th>\n",
       "      <th>year</th>\n",
       "      <th>name</th>\n",
       "      <th>sex</th>\n",
       "      <th>number</th>\n",
       "    </tr>\n",
       "  </thead>\n",
       "  <tbody>\n",
       "    <tr>\n",
       "      <th>0</th>\n",
       "      <td>2000</td>\n",
       "      <td>emily</td>\n",
       "      <td>F</td>\n",
       "      <td>25957</td>\n",
       "    </tr>\n",
       "    <tr>\n",
       "      <th>1</th>\n",
       "      <td>2000</td>\n",
       "      <td>hannah</td>\n",
       "      <td>F</td>\n",
       "      <td>23084</td>\n",
       "    </tr>\n",
       "    <tr>\n",
       "      <th>2</th>\n",
       "      <td>2000</td>\n",
       "      <td>madison</td>\n",
       "      <td>F</td>\n",
       "      <td>19968</td>\n",
       "    </tr>\n",
       "    <tr>\n",
       "      <th>3</th>\n",
       "      <td>2000</td>\n",
       "      <td>ashley</td>\n",
       "      <td>F</td>\n",
       "      <td>17997</td>\n",
       "    </tr>\n",
       "    <tr>\n",
       "      <th>4</th>\n",
       "      <td>2000</td>\n",
       "      <td>sarah</td>\n",
       "      <td>F</td>\n",
       "      <td>17706</td>\n",
       "    </tr>\n",
       "  </tbody>\n",
       "</table>\n",
       "</div>"
      ],
      "text/plain": [
       "   year     name sex  number\n",
       "0  2000    emily   F   25957\n",
       "1  2000   hannah   F   23084\n",
       "2  2000  madison   F   19968\n",
       "3  2000   ashley   F   17997\n",
       "4  2000    sarah   F   17706"
      ]
     },
     "execution_count": 18,
     "metadata": {},
     "output_type": "execute_result"
    }
   ],
   "source": [
    "df.head()"
   ]
  },
  {
   "cell_type": "code",
   "execution_count": 19,
   "id": "0b7c7965-886e-4fc9-af6e-2fba330e9351",
   "metadata": {},
   "outputs": [],
   "source": [
    "df.to_pickle(\"all-names.pkl\")"
   ]
  },
  {
   "cell_type": "code",
   "execution_count": 9,
   "id": "empirical-growing",
   "metadata": {
    "scrolled": true
   },
   "outputs": [
    {
     "data": {
      "text/html": [
       "<div>\n",
       "<style scoped>\n",
       "    .dataframe tbody tr th:only-of-type {\n",
       "        vertical-align: middle;\n",
       "    }\n",
       "\n",
       "    .dataframe tbody tr th {\n",
       "        vertical-align: top;\n",
       "    }\n",
       "\n",
       "    .dataframe thead th {\n",
       "        text-align: right;\n",
       "    }\n",
       "</style>\n",
       "<table border=\"1\" class=\"dataframe\">\n",
       "  <thead>\n",
       "    <tr style=\"text-align: right;\">\n",
       "      <th></th>\n",
       "      <th>0</th>\n",
       "      <th>year</th>\n",
       "      <th>name</th>\n",
       "      <th>sex</th>\n",
       "      <th>number</th>\n",
       "    </tr>\n",
       "  </thead>\n",
       "  <tbody>\n",
       "    <tr>\n",
       "      <th>17658</th>\n",
       "      <td>Jacob,M,34483</td>\n",
       "      <td>2000</td>\n",
       "      <td>jacob</td>\n",
       "      <td>M</td>\n",
       "      <td>34483</td>\n",
       "    </tr>\n",
       "    <tr>\n",
       "      <th>17659</th>\n",
       "      <td>Michael,M,32039</td>\n",
       "      <td>2000</td>\n",
       "      <td>michael</td>\n",
       "      <td>M</td>\n",
       "      <td>32039</td>\n",
       "    </tr>\n",
       "    <tr>\n",
       "      <th>17660</th>\n",
       "      <td>Matthew,M,28573</td>\n",
       "      <td>2000</td>\n",
       "      <td>matthew</td>\n",
       "      <td>M</td>\n",
       "      <td>28573</td>\n",
       "    </tr>\n",
       "    <tr>\n",
       "      <th>17661</th>\n",
       "      <td>Joshua,M,27537</td>\n",
       "      <td>2000</td>\n",
       "      <td>joshua</td>\n",
       "      <td>M</td>\n",
       "      <td>27537</td>\n",
       "    </tr>\n",
       "    <tr>\n",
       "      <th>17662</th>\n",
       "      <td>Christopher,M,24933</td>\n",
       "      <td>2000</td>\n",
       "      <td>christopher</td>\n",
       "      <td>M</td>\n",
       "      <td>24933</td>\n",
       "    </tr>\n",
       "    <tr>\n",
       "      <th>...</th>\n",
       "      <td>...</td>\n",
       "      <td>...</td>\n",
       "      <td>...</td>\n",
       "      <td>...</td>\n",
       "      <td>...</td>\n",
       "    </tr>\n",
       "    <tr>\n",
       "      <th>2020858</th>\n",
       "      <td>Zyheem,M,5</td>\n",
       "      <td>2019</td>\n",
       "      <td>zyheem</td>\n",
       "      <td>M</td>\n",
       "      <td>5</td>\n",
       "    </tr>\n",
       "    <tr>\n",
       "      <th>2020859</th>\n",
       "      <td>Zykel,M,5</td>\n",
       "      <td>2019</td>\n",
       "      <td>zykel</td>\n",
       "      <td>M</td>\n",
       "      <td>5</td>\n",
       "    </tr>\n",
       "    <tr>\n",
       "      <th>2020860</th>\n",
       "      <td>Zyking,M,5</td>\n",
       "      <td>2019</td>\n",
       "      <td>zyking</td>\n",
       "      <td>M</td>\n",
       "      <td>5</td>\n",
       "    </tr>\n",
       "    <tr>\n",
       "      <th>2020861</th>\n",
       "      <td>Zyn,M,5</td>\n",
       "      <td>2019</td>\n",
       "      <td>zyn</td>\n",
       "      <td>M</td>\n",
       "      <td>5</td>\n",
       "    </tr>\n",
       "    <tr>\n",
       "      <th>2020862</th>\n",
       "      <td>Zyran,M,5</td>\n",
       "      <td>2019</td>\n",
       "      <td>zyran</td>\n",
       "      <td>M</td>\n",
       "      <td>5</td>\n",
       "    </tr>\n",
       "  </tbody>\n",
       "</table>\n",
       "<p>828748 rows × 5 columns</p>\n",
       "</div>"
      ],
      "text/plain": [
       "                           0  year         name sex  number\n",
       "17658          Jacob,M,34483  2000        jacob   M   34483\n",
       "17659        Michael,M,32039  2000      michael   M   32039\n",
       "17660        Matthew,M,28573  2000      matthew   M   28573\n",
       "17661         Joshua,M,27537  2000       joshua   M   27537\n",
       "17662    Christopher,M,24933  2000  christopher   M   24933\n",
       "...                      ...   ...          ...  ..     ...\n",
       "2020858           Zyheem,M,5  2019       zyheem   M       5\n",
       "2020859            Zykel,M,5  2019        zykel   M       5\n",
       "2020860           Zyking,M,5  2019       zyking   M       5\n",
       "2020861              Zyn,M,5  2019          zyn   M       5\n",
       "2020862            Zyran,M,5  2019        zyran   M       5\n",
       "\n",
       "[828748 rows x 5 columns]"
      ]
     },
     "execution_count": 9,
     "metadata": {},
     "output_type": "execute_result"
    }
   ],
   "source": [
    "df_boys = df[(df['sex'] == \"M\")]\n",
    "df_boys"
   ]
  },
  {
   "cell_type": "code",
   "execution_count": 10,
   "id": "collect-riding",
   "metadata": {},
   "outputs": [
    {
     "data": {
      "text/html": [
       "<div>\n",
       "<style scoped>\n",
       "    .dataframe tbody tr th:only-of-type {\n",
       "        vertical-align: middle;\n",
       "    }\n",
       "\n",
       "    .dataframe tbody tr th {\n",
       "        vertical-align: top;\n",
       "    }\n",
       "\n",
       "    .dataframe thead th {\n",
       "        text-align: right;\n",
       "    }\n",
       "</style>\n",
       "<table border=\"1\" class=\"dataframe\">\n",
       "  <thead>\n",
       "    <tr style=\"text-align: right;\">\n",
       "      <th></th>\n",
       "      <th>0</th>\n",
       "      <th>year</th>\n",
       "      <th>name</th>\n",
       "      <th>sex</th>\n",
       "      <th>number</th>\n",
       "    </tr>\n",
       "  </thead>\n",
       "  <tbody>\n",
       "    <tr>\n",
       "      <th>0</th>\n",
       "      <td>Emily,F,25957</td>\n",
       "      <td>2000</td>\n",
       "      <td>emily</td>\n",
       "      <td>F</td>\n",
       "      <td>25957</td>\n",
       "    </tr>\n",
       "    <tr>\n",
       "      <th>1</th>\n",
       "      <td>Hannah,F,23084</td>\n",
       "      <td>2000</td>\n",
       "      <td>hannah</td>\n",
       "      <td>F</td>\n",
       "      <td>23084</td>\n",
       "    </tr>\n",
       "    <tr>\n",
       "      <th>2</th>\n",
       "      <td>Madison,F,19968</td>\n",
       "      <td>2000</td>\n",
       "      <td>madison</td>\n",
       "      <td>F</td>\n",
       "      <td>19968</td>\n",
       "    </tr>\n",
       "    <tr>\n",
       "      <th>3</th>\n",
       "      <td>Ashley,F,17997</td>\n",
       "      <td>2000</td>\n",
       "      <td>ashley</td>\n",
       "      <td>F</td>\n",
       "      <td>17997</td>\n",
       "    </tr>\n",
       "    <tr>\n",
       "      <th>4</th>\n",
       "      <td>Sarah,F,17706</td>\n",
       "      <td>2000</td>\n",
       "      <td>sarah</td>\n",
       "      <td>F</td>\n",
       "      <td>17706</td>\n",
       "    </tr>\n",
       "    <tr>\n",
       "      <th>...</th>\n",
       "      <td>...</td>\n",
       "      <td>...</td>\n",
       "      <td>...</td>\n",
       "      <td>...</td>\n",
       "      <td>...</td>\n",
       "    </tr>\n",
       "    <tr>\n",
       "      <th>2006776</th>\n",
       "      <td>Zyliyah,F,5</td>\n",
       "      <td>2019</td>\n",
       "      <td>zyliyah</td>\n",
       "      <td>F</td>\n",
       "      <td>5</td>\n",
       "    </tr>\n",
       "    <tr>\n",
       "      <th>2006777</th>\n",
       "      <td>Zymia,F,5</td>\n",
       "      <td>2019</td>\n",
       "      <td>zymia</td>\n",
       "      <td>F</td>\n",
       "      <td>5</td>\n",
       "    </tr>\n",
       "    <tr>\n",
       "      <th>2006778</th>\n",
       "      <td>Zyna,F,5</td>\n",
       "      <td>2019</td>\n",
       "      <td>zyna</td>\n",
       "      <td>F</td>\n",
       "      <td>5</td>\n",
       "    </tr>\n",
       "    <tr>\n",
       "      <th>2006779</th>\n",
       "      <td>Zynlee,F,5</td>\n",
       "      <td>2019</td>\n",
       "      <td>zynlee</td>\n",
       "      <td>F</td>\n",
       "      <td>5</td>\n",
       "    </tr>\n",
       "    <tr>\n",
       "      <th>2006780</th>\n",
       "      <td>Zyrielle,F,5</td>\n",
       "      <td>2019</td>\n",
       "      <td>zyrielle</td>\n",
       "      <td>F</td>\n",
       "      <td>5</td>\n",
       "    </tr>\n",
       "  </tbody>\n",
       "</table>\n",
       "<p>1192115 rows × 5 columns</p>\n",
       "</div>"
      ],
      "text/plain": [
       "                       0  year      name sex  number\n",
       "0          Emily,F,25957  2000     emily   F   25957\n",
       "1         Hannah,F,23084  2000    hannah   F   23084\n",
       "2        Madison,F,19968  2000   madison   F   19968\n",
       "3         Ashley,F,17997  2000    ashley   F   17997\n",
       "4          Sarah,F,17706  2000     sarah   F   17706\n",
       "...                  ...   ...       ...  ..     ...\n",
       "2006776      Zyliyah,F,5  2019   zyliyah   F       5\n",
       "2006777        Zymia,F,5  2019     zymia   F       5\n",
       "2006778         Zyna,F,5  2019      zyna   F       5\n",
       "2006779       Zynlee,F,5  2019    zynlee   F       5\n",
       "2006780     Zyrielle,F,5  2019  zyrielle   F       5\n",
       "\n",
       "[1192115 rows x 5 columns]"
      ]
     },
     "execution_count": 10,
     "metadata": {},
     "output_type": "execute_result"
    }
   ],
   "source": [
    "df_girls = df[(df['sex'] == \"F\")]\n",
    "df_girls"
   ]
  },
  {
   "cell_type": "code",
   "execution_count": 11,
   "id": "recent-botswana",
   "metadata": {},
   "outputs": [],
   "source": [
    "df_martin = df[(df['name'] == \"martin\") & (df['sex'] == \"M\")]\n",
    "df_sadie = df[(df['name'] == \"sadie\") & (df['sex'] == \"F\")]\n",
    "df_1880_girls = df[(df['year'] == \"1880\") & (df['number'].astype(int) < 320) & (df['sex'] == \"F\")]"
   ]
  },
  {
   "cell_type": "code",
   "execution_count": 25,
   "id": "appointed-steam",
   "metadata": {},
   "outputs": [
    {
     "data": {
      "text/plain": [
       "<matplotlib.axes._subplots.AxesSubplot at 0x126d68400>"
      ]
     },
     "execution_count": 25,
     "metadata": {},
     "output_type": "execute_result"
    },
    {
     "data": {
      "image/png": "[encoded data removed]",
      "text/plain": [
       "<Figure size 720x720 with 1 Axes>"
      ]
     },
     "metadata": {
      "needs_background": "light"
     },
     "output_type": "display_data"
    }
   ],
   "source": [
    "df_sadie.plot.scatter(x=\"year\", y=\"number\", figsize=(10,10))"
   ]
  },
  {
   "cell_type": "code",
   "execution_count": 12,
   "id": "exclusive-operation",
   "metadata": {},
   "outputs": [
    {
     "data": {
      "text/plain": [
       "<matplotlib.axes._subplots.AxesSubplot at 0x166dbac40>"
      ]
     },
     "execution_count": 12,
     "metadata": {},
     "output_type": "execute_result"
    },
    {
     "data": {
      "image/png": "[encoded data removed]",
      "text/plain": [
       "<Figure size 720x720 with 1 Axes>"
      ]
     },
     "metadata": {
      "needs_background": "light"
     },
     "output_type": "display_data"
    }
   ],
   "source": [
    "df_martin.plot.scatter(x=\"year\", y=\"number\",figsize=(10,10))"
   ]
  },
  {
   "cell_type": "code",
   "execution_count": 13,
   "id": "industrial-richmond",
   "metadata": {},
   "outputs": [],
   "source": [
    "f_martin = df[(df['name'] == \"martin\") & (df['sex'] == \"F\")]\n",
    "m_sadie = df[(df['name'] == \"sadie\") & (df['sex'] == \"M\")]"
   ]
  }
 ],
 "metadata": {
  "kernelspec": {
   "display_name": "Python 3 (ipykernel)",
   "language": "python",
   "name": "python3"
  },
  "language_info": {
   "codemirror_mode": {
    "name": "ipython",
    "version": 3
   },
   "file_extension": ".py",
   "mimetype": "text/x-python",
   "name": "python",
   "nbconvert_exporter": "python",
   "pygments_lexer": "ipython3",
   "version": "3.10.1"
  }
 },
 "nbformat": 4,
 "nbformat_minor": 5
}
